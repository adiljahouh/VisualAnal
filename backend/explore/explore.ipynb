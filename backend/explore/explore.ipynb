{
 "cells": [
  {
   "cell_type": "code",
   "execution_count": 12,
   "metadata": {},
   "outputs": [],
   "source": [
    "import pandas as pd\n",
    "import numpy as np\n",
    "import csv\n",
    "import glob\n",
    "import codecs"
   ]
  },
  {
   "cell_type": "code",
   "execution_count": 14,
   "metadata": {},
   "outputs": [],
   "source": [
    "def pre_process_txt_file(file_path):\n",
    "    # Read in the file as UTF-8\n",
    "    with codecs.open(file_path, 'r', encoding='utf-8', errors='ignore') as f:\n",
    "        text = f.read()\n",
    "    \n",
    "    # Remove double quotes and empty lines\n",
    "    text = text.replace('\"', '').strip()\n",
    "    text = '\\n'.join([line for line in text.split('\\n') if line.strip() != ''])\n",
    "    \n",
    "    # Split into journal, title, date, and content\n",
    "    lines = text.split('\\n')\n",
    "    if len(lines) < 3:\n",
    "        return None\n",
    "    journal = lines[0]\n",
    "    title = lines[1]\n",
    "    date = lines[2]\n",
    "    content = '\\n'.join(lines[3:])\n",
    "    \n",
    "    # Return the pre-processed data\n",
    "    return [journal, title, date, content]"
   ]
  },
  {
   "cell_type": "code",
   "execution_count": 15,
   "metadata": {},
   "outputs": [],
   "source": [
    "def process_txt_files(directory, output_file):\n",
    "    # Get all .txt files in the directory\n",
    "    txt_files = glob.glob(directory + '/*.txt')\n",
    "    \n",
    "    # Open the output CSV file for writing\n",
    "    with open(output_file, 'w', newline='') as file:\n",
    "        writer = csv.writer(file)\n",
    "        \n",
    "        # Write the header row\n",
    "        writer.writerow(['journal', 'title', 'date', 'content'])\n",
    "        \n",
    "        # Loop through each .txt file and process it\n",
    "        for txt_file in txt_files:\n",
    "            # Use the pre_process_txt_file function to extract the sections from the file\n",
    "            sections = pre_process_txt_file(txt_file)\n",
    "            \n",
    "            # Write the sections as a row in the CSV file\n",
    "            writer.writerow(sections)"
   ]
  },
  {
   "cell_type": "code",
   "execution_count": 16,
   "metadata": {},
   "outputs": [],
   "source": [
    "def preprocess_date_column(input_file, output_file):\n",
    "    # Read in the CSV file\n",
    "    df = pd.read_csv(input_file)\n",
    "    \n",
    "    # Print the number of rows before dropping\n",
    "    print(f'Number of rows before dropping: {len(df)}')\n",
    "    \n",
    "    # Convert the 'date' column to datetime\n",
    "    df['date'] = pd.to_datetime(df['date'], errors='coerce')\n",
    "    \n",
    "    # Drop rows where the 'date' column could not be converted\n",
    "    df.dropna(subset=['date'], inplace=True)\n",
    "    \n",
    "    # Print the number of rows after dropping\n",
    "    print(f'Number of rows after dropping: {len(df)}')\n",
    "    \n",
    "    # Write the results to a new CSV file\n",
    "    df.to_csv(output_file, index=False)"
   ]
  },
  {
   "cell_type": "code",
   "execution_count": 17,
   "metadata": {},
   "outputs": [],
   "source": [
    "process_txt_files('data/articles', 'input.csv')"
   ]
  },
  {
   "cell_type": "code",
   "execution_count": 18,
   "metadata": {},
   "outputs": [
    {
     "name": "stdout",
     "output_type": "stream",
     "text": [
      "Number of rows before dropping: 845\n",
      "Number of rows after dropping: 680\n"
     ]
    }
   ],
   "source": [
    "preprocess_date_column('input.csv', 'input_cleaned.csv')"
   ]
  }
 ],
 "metadata": {
  "kernelspec": {
   "display_name": "venv",
   "language": "python",
   "name": "python3"
  },
  "language_info": {
   "codemirror_mode": {
    "name": "ipython",
    "version": 3
   },
   "file_extension": ".py",
   "mimetype": "text/x-python",
   "name": "python",
   "nbconvert_exporter": "python",
   "pygments_lexer": "ipython3",
   "version": "3.11.2"
  },
  "orig_nbformat": 4
 },
 "nbformat": 4,
 "nbformat_minor": 2
}
